{
 "cells": [
  {
   "cell_type": "code",
   "execution_count": 15,
   "metadata": {},
   "outputs": [
    {
     "name": "stdout",
     "output_type": "stream",
     "text": [
      "4 4\n"
     ]
    }
   ],
   "source": [
    "h, w = map(int, input().split())\n",
    "print(h, w)"
   ]
  },
  {
   "cell_type": "code",
   "execution_count": 22,
   "metadata": {},
   "outputs": [
    {
     "name": "stdout",
     "output_type": "stream",
     "text": [
      "[[3, 1, 4, 1], [5, 9, 2, 9], [5, 3, 5, 8], [9, 7, 9, 3]]\n"
     ]
    }
   ],
   "source": [
    "# 複数行の入力を受け取る(文字列)\n",
    "# input_list = [input().split() for _ in range(w)]\n",
    "# 複数行の入力を受け取る（整数）\n",
    "input_list = [list(map(int, input().split())) for _ in range(w)]\n",
    "print(input_list)"
   ]
  },
  {
   "cell_type": "code",
   "execution_count": 80,
   "metadata": {},
   "outputs": [
    {
     "name": "stdout",
     "output_type": "stream",
     "text": [
      "[9, 25, 21, 28]\n",
      "[22, 20, 20, 21]\n",
      "[3, 9, 5, 3]\n",
      "[28, 36, 36, 46]\n"
     ]
    }
   ],
   "source": [
    "import operator\n",
    "\n",
    "row_sum = []\n",
    "column_sum = []\n",
    "i_j_sum = []\n",
    "\n",
    "# 行のループで同じ行の数をすべて足す\n",
    "for r in range(h):\n",
    "    row_sum.append(sum(input_list[r]))\n",
    "\n",
    "# 列のループで同じ列にある数をすべて足す\n",
    "for c in range(w):\n",
    "    tmp_sum = 0\n",
    "    for r in range(h): \n",
    "        tmp_sum += input_list[r][c]\n",
    "    column_sum.append(tmp_sum)\n",
    "\n",
    "# i, j要素が同じ番号の数のリスト\n",
    "i_j_sum = [input_list[i][j] for i in range(h) for j in range(w) if i == j]\n",
    "\n",
    "# ↑リスト内包表記しない場合は以下\n",
    "# for i in range(h):\n",
    "#     for j in range(w):\n",
    "#         if i == j:\n",
    "#             i_j_sum.append(input_list[i][j])\n",
    "print(row_sum)\n",
    "print(column_sum)\n",
    "print(i_j_sum)\n",
    "\n",
    "print(list(map(operator.sub, map(operator.add, row_sum, column_sum), i_j_sum)))"
   ]
  },
  {
   "cell_type": "code",
   "execution_count": 76,
   "metadata": {},
   "outputs": [
    {
     "name": "stdout",
     "output_type": "stream",
     "text": [
      "[2, -2, 4]\n"
     ]
    }
   ],
   "source": [
    "import operator\n",
    "lista= [1, 2, 3]\n",
    "listb= [4, 5, 6]\n",
    "testans = list(map(operator.sub, map(operator.add, lista, listb), i_j_sum))\n",
    "print(testans)"
   ]
  },
  {
   "cell_type": "code",
   "execution_count": null,
   "metadata": {},
   "outputs": [],
   "source": []
  }
 ],
 "metadata": {
  "interpreter": {
   "hash": "763cac57c0d1f103d45f8f00b037decf4883f5ad577f0a6a1ba8bfbc08d0b390"
  },
  "kernelspec": {
   "display_name": "Python 3.9.7 ('atcoderpy': venv)",
   "language": "python",
   "name": "python3"
  },
  "language_info": {
   "codemirror_mode": {
    "name": "ipython",
    "version": 3
   },
   "file_extension": ".py",
   "mimetype": "text/x-python",
   "name": "python",
   "nbconvert_exporter": "python",
   "pygments_lexer": "ipython3",
   "version": "3.9.7"
  },
  "orig_nbformat": 4
 },
 "nbformat": 4,
 "nbformat_minor": 2
}
