{
 "cells": [
  {
   "cell_type": "code",
   "execution_count": 18,
   "metadata": {},
   "outputs": [
    {
     "name": "stdout",
     "output_type": "stream",
     "text": [
      "[20, 18]\n",
      "<class 'list'>\n",
      "[18, 2]\n",
      "<class 'list'>\n",
      "18\n"
     ]
    }
   ],
   "source": [
    "n = 4\n",
    "a1, a2, a3, a4 = 20, 18, 2, 18\n",
    "\n",
    "a_list = [a1, a2, a3, a4]\n",
    "a_list = sorted(a_list, reverse=True)\n",
    "Alice = []\n",
    "Bob = []\n",
    "\n",
    "while(len(a_list) != 0):\n",
    "    if len(a_list) != 0:\n",
    "        Alice.append(a_list.pop(0))\n",
    "    if len(a_list) != 0:\n",
    "        Bob.append(a_list.pop(0))\n",
    "\n",
    "print(Alice)\n",
    "print(type(Alice))\n",
    "print(Bob)\n",
    "print(type(Bob))\n",
    "print(sum(Alice) - sum(Bob))"
   ]
  },
  {
   "cell_type": "code",
   "execution_count": 9,
   "metadata": {},
   "outputs": [
    {
     "name": "stdout",
     "output_type": "stream",
     "text": [
      "[7, 4, 2]\n",
      "<class 'list'>\n",
      "<class 'int'>\n"
     ]
    }
   ],
   "source": [
    "n = 3\n",
    "a1, a2, a3 = 2, 7, 4\n",
    "\n",
    "a_list = [a1, a2, a3]\n",
    "a_list = sorted(a_list, reverse=True)\n",
    "print(a_list)\n",
    "print(type(a_list))\n",
    "print(type(a_list[0]))"
   ]
  },
  {
   "cell_type": "code",
   "execution_count": null,
   "metadata": {},
   "outputs": [],
   "source": []
  }
 ],
 "metadata": {
  "interpreter": {
   "hash": "763cac57c0d1f103d45f8f00b037decf4883f5ad577f0a6a1ba8bfbc08d0b390"
  },
  "kernelspec": {
   "display_name": "Python 3.9.7 ('atcoderpy': venv)",
   "language": "python",
   "name": "python3"
  },
  "language_info": {
   "codemirror_mode": {
    "name": "ipython",
    "version": 3
   },
   "file_extension": ".py",
   "mimetype": "text/x-python",
   "name": "python",
   "nbconvert_exporter": "python",
   "pygments_lexer": "ipython3",
   "version": "3.9.7"
  },
  "orig_nbformat": 4
 },
 "nbformat": 4,
 "nbformat_minor": 2
}
