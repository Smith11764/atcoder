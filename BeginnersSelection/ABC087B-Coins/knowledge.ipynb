{
 "cells": [
  {
   "cell_type": "code",
   "execution_count": 1,
   "metadata": {},
   "outputs": [],
   "source": [
    "a, b, c, x = 2, 2, 2, 100"
   ]
  },
  {
   "cell_type": "code",
   "execution_count": 5,
   "metadata": {},
   "outputs": [
    {
     "name": "stdout",
     "output_type": "stream",
     "text": [
      "2\n"
     ]
    }
   ],
   "source": [
    "answer = 100\n",
    "count = 0\n",
    "\n",
    "for i in range(int(answer / 500 + 1)):\n",
    "    for j in range(int(answer / 100 + 1)):\n",
    "        for k in range(int(answer / 50 + 1)):\n",
    "            if answer == 500*i + 100*j + 50*k:\n",
    "                count += 1\n",
    "\n",
    "print(count)"
   ]
  },
  {
   "cell_type": "code",
   "execution_count": 4,
   "metadata": {},
   "outputs": [
    {
     "name": "stdout",
     "output_type": "stream",
     "text": [
      "0\n"
     ]
    }
   ],
   "source": [
    "answer = 100\n",
    "tmp_culc_result = 0\n",
    "pattern_cnt = 0\n",
    "\n",
    "five_hundred_yen_max_cnt = int(answer / 500)\n",
    "one_hundred_yen_max_cnt = int(answer / 100)\n",
    "fifty_yen_max_cnt = int(answer / 50)\n",
    "\n",
    "\n",
    "def judge_finish(answer, tmp_culc_result):\n",
    "    if answer == tmp_culc_result:\n",
    "        tmp_culc_result = 0\n",
    "        pattern_cnt += 1\n",
    "        return True\n",
    "\n",
    "    if answer >= tmp_culc_result:\n",
    "        tmp_culc_result = 0\n",
    "        return True\n",
    "\n",
    "\n",
    "for i in range(five_hundred_yen_max_cnt + 1):\n",
    "    tmp_culc_result += 500 * i\n",
    "    if judge_finish(answer, tmp_culc_result):\n",
    "        break\n",
    "\n",
    "    for j in range(one_hundred_yen_max_cnt + 1):\n",
    "        tmp_culc_result += 100 * j\n",
    "        if judge_finish(answer, tmp_culc_result):\n",
    "            break\n",
    "\n",
    "        for k in range(fifty_yen_max_cnt + 1):\n",
    "            tmp_culc_result += 50 * k\n",
    "            if judge_finish(answer, tmp_culc_result):\n",
    "                break\n",
    "\n",
    "print(pattern_cnt)"
   ]
  },
  {
   "cell_type": "code",
   "execution_count": 2,
   "metadata": {},
   "outputs": [
    {
     "data": {
      "text/plain": [
       "0.02"
      ]
     },
     "execution_count": 2,
     "metadata": {},
     "output_type": "execute_result"
    }
   ],
   "source": [
    "1/ 50"
   ]
  },
  {
   "cell_type": "code",
   "execution_count": 3,
   "metadata": {},
   "outputs": [
    {
     "data": {
      "text/plain": [
       "0"
      ]
     },
     "execution_count": 3,
     "metadata": {},
     "output_type": "execute_result"
    }
   ],
   "source": [
    "int(1/50)"
   ]
  },
  {
   "cell_type": "code",
   "execution_count": 2,
   "metadata": {},
   "outputs": [
    {
     "name": "stdout",
     "output_type": "stream",
     "text": [
      "1\n"
     ]
    }
   ],
   "source": [
    "answer = 100\n",
    "one_hundred_yen_max_cnt = int(answer / 100)\n",
    "print(one_hundred_yen_max_cnt)"
   ]
  },
  {
   "cell_type": "code",
   "execution_count": null,
   "metadata": {},
   "outputs": [],
   "source": []
  }
 ],
 "metadata": {
  "interpreter": {
   "hash": "763cac57c0d1f103d45f8f00b037decf4883f5ad577f0a6a1ba8bfbc08d0b390"
  },
  "kernelspec": {
   "display_name": "Python 3.9.7 ('atcoderpy': venv)",
   "language": "python",
   "name": "python3"
  },
  "language_info": {
   "codemirror_mode": {
    "name": "ipython",
    "version": 3
   },
   "file_extension": ".py",
   "mimetype": "text/x-python",
   "name": "python",
   "nbconvert_exporter": "python",
   "pygments_lexer": "ipython3",
   "version": "3.9.7"
  },
  "orig_nbformat": 4
 },
 "nbformat": 4,
 "nbformat_minor": 2
}
