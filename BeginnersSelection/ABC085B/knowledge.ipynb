{
 "cells": [
  {
   "cell_type": "code",
   "execution_count": 6,
   "metadata": {},
   "outputs": [
    {
     "name": "stdout",
     "output_type": "stream",
     "text": [
      "[10, 8, 8, 6]\n",
      "[10, 8, 6]\n",
      "3\n"
     ]
    }
   ],
   "source": [
    "n = 4\n",
    "list_mochi = [10, 8, 8, 6]\n",
    "\n",
    "list_mochi = sorted(list_mochi, reverse=True)\n",
    "\n",
    "print(list_mochi)\n",
    "set_mochi = set(list_mochi)\n",
    "set_mochi = sorted(set_mochi, reverse=True)\n",
    "print(set_mochi)\n",
    "print(len(set_mochi))"
   ]
  },
  {
   "cell_type": "code",
   "execution_count": null,
   "metadata": {},
   "outputs": [],
   "source": []
  }
 ],
 "metadata": {
  "interpreter": {
   "hash": "763cac57c0d1f103d45f8f00b037decf4883f5ad577f0a6a1ba8bfbc08d0b390"
  },
  "kernelspec": {
   "display_name": "Python 3.9.7 ('atcoderpy': venv)",
   "language": "python",
   "name": "python3"
  },
  "language_info": {
   "codemirror_mode": {
    "name": "ipython",
    "version": 3
   },
   "file_extension": ".py",
   "mimetype": "text/x-python",
   "name": "python",
   "nbconvert_exporter": "python",
   "pygments_lexer": "ipython3",
   "version": "3.9.7"
  },
  "orig_nbformat": 4
 },
 "nbformat": 4,
 "nbformat_minor": 2
}
