{
 "cells": [
  {
   "cell_type": "code",
   "execution_count": 4,
   "metadata": {},
   "outputs": [
    {
     "name": "stdout",
     "output_type": "stream",
     "text": [
      "No\n",
      "Yes\n"
     ]
    }
   ],
   "source": [
    "n = int(input())\n",
    "\n",
    "# 初期値\n",
    "prev_t, prev_x, prev_y = 0, 0, 0\n",
    "flag = True\n",
    "\n",
    "for i in range(n):\n",
    "    t, x, y = map(int, input().split())\n",
    "    dt = abs(t - prev_t)\n",
    "    dx = abs(x - prev_x)\n",
    "    dy = abs(y - prev_y)\n",
    "\n",
    "    # 次回ループの初期値として保存\n",
    "    prev_t = dt\n",
    "    prev_x = dx\n",
    "    prev_y = dy\n",
    "\n",
    "    # 経過時間よりもマンハッタン距離が長かったらNG\n",
    "    if dt < (dx + dy):\n",
    "        flag = False\n",
    "    # 時間の経過とマンハッタン距離の偶奇が違ったらNG\n",
    "    elif dt % 2 != (dx + dy) % 2:\n",
    "        flag = False\n",
    "\n",
    "if flag == True:\n",
    "    print('Yes')\n",
    "else:\n",
    "    print('No')"
   ]
  },
  {
   "cell_type": "code",
   "execution_count": null,
   "metadata": {},
   "outputs": [],
   "source": []
  },
  {
   "cell_type": "code",
   "execution_count": null,
   "metadata": {},
   "outputs": [],
   "source": []
  }
 ],
 "metadata": {
  "interpreter": {
   "hash": "763cac57c0d1f103d45f8f00b037decf4883f5ad577f0a6a1ba8bfbc08d0b390"
  },
  "kernelspec": {
   "display_name": "Python 3.9.7 ('atcoderpy': venv)",
   "language": "python",
   "name": "python3"
  },
  "language_info": {
   "codemirror_mode": {
    "name": "ipython",
    "version": 3
   },
   "file_extension": ".py",
   "mimetype": "text/x-python",
   "name": "python",
   "nbconvert_exporter": "python",
   "pygments_lexer": "ipython3",
   "version": "3.9.7"
  },
  "orig_nbformat": 4
 },
 "nbformat": 4,
 "nbformat_minor": 2
}
