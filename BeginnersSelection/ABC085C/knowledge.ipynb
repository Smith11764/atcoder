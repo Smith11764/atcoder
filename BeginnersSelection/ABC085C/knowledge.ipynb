{
 "cells": [
  {
   "cell_type": "code",
   "execution_count": 24,
   "metadata": {},
   "outputs": [
    {
     "name": "stdout",
     "output_type": "stream",
     "text": [
      "2000 0 0\n"
     ]
    }
   ],
   "source": [
    "n = 2000\n",
    "otoshidama = 20000000\n",
    "otoshidama /= 1000 # 枚数がわかればいいので最小のスケールにする\n",
    "cnt_10000yen = -1\n",
    "cnt_5000yen = -1\n",
    "cnt_1000yen = -1\n",
    "\n",
    "for i in range(n+1):\n",
    "    for j in range(n+1):\n",
    "        # 10000, 5000円札の数から1000円札の調べるべき枚数は決まる\n",
    "        k = n - (i + j)\n",
    "        if k < 0:\n",
    "            break\n",
    "        if otoshidama == 10*i + 5*j + k:\n",
    "            cnt_10000yen = i\n",
    "            cnt_5000yen = j\n",
    "            cnt_1000yen = k\n",
    "\n",
    "print('{} {} {}'.format(cnt_10000yen, cnt_5000yen, cnt_1000yen))\n"
   ]
  },
  {
   "cell_type": "code",
   "execution_count": null,
   "metadata": {},
   "outputs": [],
   "source": []
  }
 ],
 "metadata": {
  "interpreter": {
   "hash": "763cac57c0d1f103d45f8f00b037decf4883f5ad577f0a6a1ba8bfbc08d0b390"
  },
  "kernelspec": {
   "display_name": "Python 3.9.7 ('atcoderpy': venv)",
   "language": "python",
   "name": "python3"
  },
  "language_info": {
   "codemirror_mode": {
    "name": "ipython",
    "version": 3
   },
   "file_extension": ".py",
   "mimetype": "text/x-python",
   "name": "python",
   "nbconvert_exporter": "python",
   "pygments_lexer": "ipython3",
   "version": "3.9.7"
  },
  "orig_nbformat": 4
 },
 "nbformat": 4,
 "nbformat_minor": 2
}
