{
 "cells": [
  {
   "cell_type": "code",
   "execution_count": null,
   "metadata": {},
   "outputs": [],
   "source": [
    "s = 'erasedream'\n",
    "t = ''\n",
    "term_list = ['dream', 'dreamer', 'erase', 'eraser']\n",
    "\n",
    "for term in term_list:\n",
    "    if term not in s:\n",
    "        print('NO')\n"
   ]
  },
  {
   "cell_type": "code",
   "execution_count": 6,
   "metadata": {},
   "outputs": [
    {
     "name": "stdout",
     "output_type": "stream",
     "text": [
      "True\n"
     ]
    }
   ],
   "source": [
    "s = 'dreamerer'\n",
    "print('dreamer' in s)"
   ]
  },
  {
   "cell_type": "code",
   "execution_count": 21,
   "metadata": {},
   "outputs": [
    {
     "name": "stdout",
     "output_type": "stream",
     "text": [
      "dream\n",
      "dream\n",
      "dream\n",
      "\n",
      "\n",
      "000000\n",
      "YES\n"
     ]
    }
   ],
   "source": [
    "s = 'dreameraser'\n",
    "term_list = ['dream', 'dreamer', 'erase', 'eraser']\n",
    "term_list = sorted(term_list, reverse=True)\n",
    "for i in range(len(term_list)):\n",
    "    s = s.replace(term_list[i], '')\n",
    "    print(s)\n",
    "\n",
    "print(s)\n",
    "print('000000')\n",
    "if s == '':\n",
    "    print('YES')\n",
    "else:\n",
    "    print('NO')"
   ]
  },
  {
   "cell_type": "code",
   "execution_count": 20,
   "metadata": {},
   "outputs": [
    {
     "name": "stdout",
     "output_type": "stream",
     "text": [
      "['dream', 'dreamer', 'erase', 'eraser']\n",
      "['eraser', 'erase', 'dreamer', 'dream']\n"
     ]
    }
   ],
   "source": [
    "print(term_list)\n",
    "print(sorted(term_list, reverse=True))"
   ]
  },
  {
   "cell_type": "code",
   "execution_count": null,
   "metadata": {},
   "outputs": [],
   "source": []
  }
 ],
 "metadata": {
  "interpreter": {
   "hash": "763cac57c0d1f103d45f8f00b037decf4883f5ad577f0a6a1ba8bfbc08d0b390"
  },
  "kernelspec": {
   "display_name": "Python 3.9.7 ('atcoderpy': venv)",
   "language": "python",
   "name": "python3"
  },
  "language_info": {
   "codemirror_mode": {
    "name": "ipython",
    "version": 3
   },
   "file_extension": ".py",
   "mimetype": "text/x-python",
   "name": "python",
   "nbconvert_exporter": "python",
   "pygments_lexer": "ipython3",
   "version": "3.9.7"
  },
  "orig_nbformat": 4
 },
 "nbformat": 4,
 "nbformat_minor": 2
}
