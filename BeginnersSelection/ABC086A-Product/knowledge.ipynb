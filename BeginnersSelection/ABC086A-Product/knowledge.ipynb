{
 "cells": [
  {
   "cell_type": "code",
   "execution_count": 11,
   "metadata": {},
   "outputs": [
    {
     "ename": "TypeError",
     "evalue": "unsupported operand type(s) for /=: 'list' and 'int'",
     "output_type": "error",
     "traceback": [
      "\u001b[0;31m---------------------------------------------------------------------------\u001b[0m",
      "\u001b[0;31mTypeError\u001b[0m                                 Traceback (most recent call last)",
      "\u001b[1;32m/Users/yusukesumikawa/dev/atcoder/BeginnersSelection/ABC086A/knowledge.ipynb Cell 1'\u001b[0m in \u001b[0;36m<cell line: 10>\u001b[0;34m()\u001b[0m\n\u001b[1;32m      <a href='vscode-notebook-cell:/Users/yusukesumikawa/dev/atcoder/BeginnersSelection/ABC086A/knowledge.ipynb#ch0000000?line=7'>8</a>\u001b[0m         cnt \u001b[39m+\u001b[39m\u001b[39m=\u001b[39m \u001b[39m1\u001b[39m\n\u001b[1;32m     <a href='vscode-notebook-cell:/Users/yusukesumikawa/dev/atcoder/BeginnersSelection/ABC086A/knowledge.ipynb#ch0000000?line=9'>10</a>\u001b[0m \u001b[39mif\u001b[39;00m cnt \u001b[39m==\u001b[39m list_a_len:\n\u001b[0;32m---> <a href='vscode-notebook-cell:/Users/yusukesumikawa/dev/atcoder/BeginnersSelection/ABC086A/knowledge.ipynb#ch0000000?line=10'>11</a>\u001b[0m     list_a \u001b[39m/\u001b[39m\u001b[39m=\u001b[39m \u001b[39m2\u001b[39m\n",
      "\u001b[0;31mTypeError\u001b[0m: unsupported operand type(s) for /=: 'list' and 'int'"
     ]
    }
   ],
   "source": [
    "n = 3\n",
    "list_a = [8, 12,  40]\n",
    "\n",
    "list_a_len = len(list_a)\n",
    "cnt = 0\n",
    "for a in list_a:\n",
    "    if a % 2 == 0:\n",
    "        cnt += 1\n",
    "\n",
    "if cnt == list_a_len:\n",
    "    list_a /= 2\n"
   ]
  },
  {
   "cell_type": "code",
   "execution_count": 7,
   "metadata": {},
   "outputs": [
    {
     "name": "stdout",
     "output_type": "stream",
     "text": [
      "<class 'list'>\n",
      "<class 'int'>\n",
      "<class 'float'>\n",
      "[4.0, 6.0, 20.0]\n"
     ]
    }
   ],
   "source": [
    "list_a = [8, 12,  40]\n",
    "print(type(list_a))\n",
    "print(type(list_a[0]))\n",
    "\n",
    "def main():\n",
    "    if judge_calc(list_a):\n",
    "        list_a= map(calc_half, list_a)\n",
    "        list_a = list(list_a)\n",
    "\n",
    "def judge_calc(list_x):\n",
    "    for x in list_x:\n",
    "        if x % 2 == 0:\n",
    "            cnt += 1\n",
    "    if cnt == len(list_x):\n",
    "        return True\n",
    "    else:\n",
    "        return False\n",
    "\n",
    "def calc_half(x):\n",
    "    return x / 2\n",
    "\n",
    "print(list_a)"
   ]
  },
  {
   "cell_type": "code",
   "execution_count": 23,
   "metadata": {},
   "outputs": [
    {
     "name": "stdout",
     "output_type": "stream",
     "text": [
      "2\n"
     ]
    }
   ],
   "source": [
    "n = 3\n",
    "list_a = [8, 12,  40]\n",
    "cnt = 0\n",
    "\n",
    "# allですべての要素に対して判定できる\n",
    "# ジェネレーターを使うと順次作られたものが評価され、False時点で要素を作らないので速い\n",
    "while all(i%2==0 for i in list_a):\n",
    "    list_a = [i/2 for i in list_a] # リスト内包表記\n",
    "    cnt += 1\n",
    "print(cnt)"
   ]
  },
  {
   "cell_type": "code",
   "execution_count": 15,
   "metadata": {},
   "outputs": [
    {
     "name": "stdout",
     "output_type": "stream",
     "text": [
      "<generator object <genexpr> at 0x1072bf820>\n"
     ]
    }
   ],
   "source": [
    "test = (i%2 for i in list_a)\n",
    "print(test)"
   ]
  },
  {
   "cell_type": "code",
   "execution_count": 16,
   "metadata": {},
   "outputs": [
    {
     "name": "stdout",
     "output_type": "stream",
     "text": [
      "[1.0, 1.5, 5.0]\n"
     ]
    }
   ],
   "source": [
    "testB = [i/2 for i in list_a]\n",
    "print(testB)"
   ]
  },
  {
   "cell_type": "code",
   "execution_count": 21,
   "metadata": {},
   "outputs": [
    {
     "name": "stdout",
     "output_type": "stream",
     "text": [
      "False\n"
     ]
    }
   ],
   "source": [
    "print(all(i%2==0 for i in list_a))"
   ]
  },
  {
   "cell_type": "code",
   "execution_count": null,
   "metadata": {},
   "outputs": [],
   "source": []
  }
 ],
 "metadata": {
  "interpreter": {
   "hash": "0b0efb32cf432c89cfd5c99c2a303ad490fe3fc27c5539b08ba8c4d4d75c11c3"
  },
  "kernelspec": {
   "display_name": "Python 3.9.7 64-bit ('3.9.7')",
   "language": "python",
   "name": "python3"
  },
  "language_info": {
   "codemirror_mode": {
    "name": "ipython",
    "version": 3
   },
   "file_extension": ".py",
   "mimetype": "text/x-python",
   "name": "python",
   "nbconvert_exporter": "python",
   "pygments_lexer": "ipython3",
   "version": "3.9.7"
  },
  "orig_nbformat": 4
 },
 "nbformat": 4,
 "nbformat_minor": 2
}
